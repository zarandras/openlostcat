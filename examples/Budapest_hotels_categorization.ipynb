{
 "cells": [
  {
   "cell_type": "code",
   "execution_count": 1,
   "metadata": {},
   "outputs": [],
   "source": [
    "%matplotlib inline\n",
    "import matplotlib.pyplot as plt\n",
    "import folium\n",
    "import requests\n",
    "import json\n",
    "\n",
    "import pandas as pd\n",
    "import numpy as np\n",
    "\n",
    "## pip install openlostcat\n",
    "from openlostcat.main_osm_categorizer import MainOsmCategorizer\n",
    "from ipywidgets import interact"
   ]
  },
  {
   "cell_type": "code",
   "execution_count": 2,
   "metadata": {},
   "outputs": [],
   "source": [
    "budapest_req = \"\"\"\n",
    "[out:json];\n",
    "    (area[\"name\"=\"Budapest\"];) -> .searchArea;\n",
    "    node[tourism=hotel](area.searchArea);\n",
    "out body;\n",
    "\"\"\""
   ]
  },
  {
   "cell_type": "code",
   "execution_count": 3,
   "metadata": {},
   "outputs": [
    {
     "data": {
      "text/plain": [
       "139"
      ]
     },
     "execution_count": 3,
     "metadata": {},
     "output_type": "execute_result"
    }
   ],
   "source": [
    "# pip install openlostcat\n",
    "from openlostcat.osmqueryutils.ask_osm import ask_osm\n",
    "\n",
    "budapest_hotels = ask_osm(budapest_req)\n",
    "len(budapest_hotels['elements'])"
   ]
  },
  {
   "cell_type": "code",
   "execution_count": 4,
   "metadata": {},
   "outputs": [],
   "source": [
    "bp_hotels = pd.DataFrame([[node['id'], node['lat'], node['lon'], node['tags'].get('name', 'NoName'),  \n",
    "                           node['tags']] for node in budapest_hotels['elements']], \n",
    "                         columns = ['id','lat','lng', 'name', 'tags'])"
   ]
  },
  {
   "cell_type": "code",
   "execution_count": 5,
   "metadata": {},
   "outputs": [],
   "source": [
    "from openlostcat.osmqueryutils.ask_osm import ask_osm_around_point_df\n",
    "\n",
    "osm = bp_hotels[[\"lat\", \"lng\"]].apply(lambda x: ask_osm_around_point_df(x, distance = 300), axis = 1)\n",
    "bp_hotels[\"osm\"] = osm"
   ]
  },
  {
   "cell_type": "code",
   "execution_count": 6,
   "metadata": {},
   "outputs": [],
   "source": [
    "# len(bp_hotels.loc[bp_hotels.osm.isna(), \"osm\"])"
   ]
  },
  {
   "cell_type": "code",
   "execution_count": 7,
   "metadata": {},
   "outputs": [],
   "source": [
    "# if len(bp_hotels.loc[bp_hotels.osm.isna(), \"osm\"]) > 0:\n",
    "#     osm_isna = bp_hotels[bp_hotels.osm.isna()][[\"lat\", \"lng\"]].apply(lambda x: ask_osm_around_point_df(x, distance = 300), axis = 1)\n",
    "#     bp_hotels.loc[bp_hotels.osm.isna(), \"osm\"] = osm_isna"
   ]
  },
  {
   "cell_type": "code",
   "execution_count": 11,
   "metadata": {},
   "outputs": [
    {
     "data": {
      "text/plain": [
       "0"
      ]
     },
     "execution_count": 11,
     "metadata": {},
     "output_type": "execute_result"
    }
   ],
   "source": [
    "# len(bp_hotels.loc[bp_hotels.osm.isna(), \"osm\"])"
   ]
  },
  {
   "cell_type": "code",
   "execution_count": 10,
   "metadata": {},
   "outputs": [],
   "source": [
    "import time\n",
    "\n",
    "while len(bp_hotels.loc[bp_hotels.osm.isna(), \"osm\"]) > 0:\n",
    "    time.sleep(10)\n",
    "    osm_isna = bp_hotels[bp_hotels.osm.isna()][[\"lat\", \"lng\"]].apply(lambda x: ask_osm_around_point_df(x, distance = 300), axis = 1)\n",
    "    bp_hotels.loc[bp_hotels.osm.isna(), \"osm\"] = osm_isna"
   ]
  },
  {
   "cell_type": "code",
   "execution_count": 12,
   "metadata": {},
   "outputs": [],
   "source": [
    "import folium\n",
    "\n",
    "zero_location = np.array(list(zip(bp_hotels[\"lat\"],bp_hotels[\"lng\"]))).mean(axis=0)\n",
    "\n",
    "def show_geo(related_geo, color_map, get_color_func):\n",
    "    tmp = related_geo\n",
    "    # extract coordinates\n",
    "    coords = np.array(list(zip(tmp[\"lat\"],tmp[\"lng\"])))\n",
    "    # extract other resources\n",
    "#     Some coding issue: https://github.com/python-visualization/folium/issues/1320\n",
    "    names = list([str(name.encode('raw_unicode_escape'))[2:-1] for name in tmp.name])\n",
    "    tags = list([str(str(tag).encode('raw_unicode_escape'))[2:-1] for tag in tmp.tags])\n",
    "    colors = get_color_func(tmp, color_map)\n",
    "    m = folium.Map(\n",
    "        location=coords.mean(axis=0) if len(coords) > 0 else zero_location,\n",
    "        zoom_start=12,\n",
    "        tiles='Stamen Terrain'\n",
    "    )\n",
    "    for i, loc in enumerate(coords):\n",
    "        folium.Marker(loc, popup='<i>%s</i>' % tags[i], tooltip=str(names[i]), icon=folium.Icon(color=colors[i])).add_to(m)\n",
    "    display(m)"
   ]
  },
  {
   "cell_type": "markdown",
   "metadata": {},
   "source": [
    "## Public transport"
   ]
  },
  {
   "cell_type": "code",
   "execution_count": 13,
   "metadata": {},
   "outputs": [
    {
     "name": "stdout",
     "output_type": "stream",
     "text": [
      "{0: 'pt_primary_accessible', 1: 'pt_accessible', 2: 'pt_nonaccessible'}\n",
      "CategoryCatalog:\n",
      "category rule collection: [\n",
      "    Category name: pt_primary_accessible\n",
      "    rules: [\n",
      "        ANY[8756353289608](\n",
      "            and(\n",
      "                {public_transport : {'stop_position'}}, is_optional_key = False\n",
      "                or[\n",
      "                    {light_rail : {'yes'}}, is_optional_key = False\n",
      "                    {subway : {'yes'}}, is_optional_key = False\n",
      "                    {train : {'yes'}}, is_optional_key = False\n",
      "                ]\n",
      "            )\n",
      "        )\n",
      "    ]\n",
      "    Category name: pt_accessible\n",
      "    rules: [\n",
      "        OR[\n",
      "            ANY[8756353289653](\n",
      "                {public_transport : {'stop_position'}}, is_optional_key = False\n",
      "            )\n",
      "            ANY[8756353289602](\n",
      "                {public_transport : {'platform'}}, is_optional_key = False\n",
      "            )\n",
      "            ANY[8756353289614](\n",
      "                {amenity : {'ferry_terminal'}}, is_optional_key = False\n",
      "            )\n",
      "        ]\n",
      "    ]\n",
      "    Category name: pt_nonaccessible\n",
      "    rules: [\n",
      "        CONST(True)\n",
      "    ]\n",
      "]\n"
     ]
    }
   ],
   "source": [
    "categorizer = MainOsmCategorizer('rules/publictransport_rules.json')\n",
    "print(categorizer.get_categories_enumerated_key_map())\n",
    "print(categorizer)\n",
    "\n",
    "bp_hotels[\"pt_cat\"] = [i[0] for i in bp_hotels.osm.map(categorizer.categorize)]"
   ]
  },
  {
   "cell_type": "code",
   "execution_count": 14,
   "metadata": {},
   "outputs": [
    {
     "data": {
      "text/plain": [
       "1    81\n",
       "0    53\n",
       "2     5\n",
       "Name: pt_cat, dtype: int64"
      ]
     },
     "execution_count": 14,
     "metadata": {},
     "output_type": "execute_result"
    }
   ],
   "source": [
    "bp_hotels.pt_cat.value_counts()"
   ]
  },
  {
   "cell_type": "code",
   "execution_count": 15,
   "metadata": {},
   "outputs": [
    {
     "data": {
      "application/vnd.jupyter.widget-view+json": {
       "model_id": "5a840085dc8b4287866ee911beca8096",
       "version_major": 2,
       "version_minor": 0
      },
      "text/plain": [
       "interactive(children=(Dropdown(description='pt_cat', options=('All', 'pt_primary_accessible', 'pt_accessible',…"
      ]
     },
     "metadata": {},
     "output_type": "display_data"
    }
   ],
   "source": [
    "color_map_pt = dict(zip([0, 1, 2], [\"green\", \"orange\", \"red\"]))\n",
    "get_color_func_pt = lambda df, color_map: list(df[\"pt_cat\"].apply(lambda x: color_map.get(x, \"black\")))\n",
    "key_map_pt = dict(zip(['pt_primary_accessible', 'pt_accessible', 'pt_nonaccessible'], [0, 1, 2]))\n",
    "\n",
    "\n",
    "\n",
    "transport = ['All', 'pt_primary_accessible', 'pt_accessible', 'pt_nonaccessible']\n",
    "@interact(pt_cat=transport)\n",
    "def get_transport(pt_cat):\n",
    "    selected = bp_hotels[bp_hotels.pt_cat == key_map_pt[pt_cat]] if pt_cat != 'All' else bp_hotels\n",
    "    show_geo(selected, color_map_pt, get_color_func_pt)"
   ]
  },
  {
   "cell_type": "markdown",
   "metadata": {},
   "source": [
    "## Nearby"
   ]
  },
  {
   "cell_type": "code",
   "execution_count": 16,
   "metadata": {},
   "outputs": [
    {
     "name": "stdout",
     "output_type": "stream",
     "text": [
      "{0: 'water_nearby', 1: 'calm_streets'}\n",
      "CategoryCatalog:\n",
      "category rule collection: [\n",
      "    Category name: water_nearby\n",
      "    rules: [\n",
      "        ANY[8756347652000](\n",
      "            {waterway : {'river'}}, is_optional_key = False\n",
      "        )\n",
      "    ]\n",
      "    Category name: calm_streets\n",
      "    rules: [\n",
      "        ALL[not_road](\n",
      "            not(\n",
      "                {highway : {'secondary', 'primary'}}, is_optional_key = False\n",
      "            )\n",
      "        )\n",
      "    ]\n",
      "]\n"
     ]
    }
   ],
   "source": [
    "categorizer2 = MainOsmCategorizer('rules/nearby.json')\n",
    "print(categorizer2.get_categories_enumerated_key_map())\n",
    "print(categorizer2)\n",
    "\n",
    "\n",
    "nb_cat = [[cat[0] for cat in cat_list] for cat_list in bp_hotels.osm.map(categorizer2.categorize)]\n",
    "bp_hotels[\"water_nearby\"] = [0 in cats  for cats in nb_cat]\n",
    "bp_hotels[\"calm_streets\"] = [1 in cats  for cats in nb_cat]"
   ]
  },
  {
   "cell_type": "code",
   "execution_count": 17,
   "metadata": {},
   "outputs": [
    {
     "name": "stdout",
     "output_type": "stream",
     "text": [
      "calm_streets and water: 5\n",
      "only water: 8\n",
      "only calm_streets: 19\n",
      "nothing: 107\n"
     ]
    }
   ],
   "source": [
    "print(\"calm_streets and water: \" + str(bp_hotels[bp_hotels.water_nearby & bp_hotels.calm_streets].shape[0]))\n",
    "print(\"only water: \" + str(bp_hotels[(bp_hotels.water_nearby) & (bp_hotels.calm_streets == False)].shape[0]))\n",
    "print(\"only calm_streets: \" + str(bp_hotels[(bp_hotels.water_nearby == False) & (bp_hotels.calm_streets)].shape[0]))\n",
    "print(\"nothing: \" + str(bp_hotels[(bp_hotels.water_nearby == False) & (bp_hotels.calm_streets == False)].shape[0]))"
   ]
  },
  {
   "cell_type": "code",
   "execution_count": 18,
   "metadata": {
    "scrolled": false
   },
   "outputs": [
    {
     "data": {
      "application/vnd.jupyter.widget-view+json": {
       "model_id": "cef1f6ab6c96483e936970186e015aae",
       "version_major": 2,
       "version_minor": 0
      },
      "text/plain": [
       "interactive(children=(Dropdown(description='nearby_cat', options=('All', 'water_nearby', 'calm_streets', 'both…"
      ]
     },
     "metadata": {},
     "output_type": "display_data"
    }
   ],
   "source": [
    "color_map_nb = {\n",
    "    (True, False): \"blue\",\n",
    "    (False, True): \"green\",\n",
    "    (True, True): \"purple\",\n",
    "    (False, False): \"black\"\n",
    "}\n",
    "get_color_func_nb = lambda df, color_map: list(map(lambda x: color_map.get(x, \"black\"), list(zip(df.water_nearby, df.calm_streets))))\n",
    "nearby = ['All', 'water_nearby', 'calm_streets', 'both', 'none']\n",
    "@interact(nearby_cat=nearby)\n",
    "def get_nerby(nearby_cat):\n",
    "    water_nearby = lambda x: x[x.water_nearby]\n",
    "    calm_streets = lambda x: x[x.calm_streets]\n",
    "    both = lambda x: x[x.water_nearby & x.calm_streets]\n",
    "    none = lambda x: x[(x.water_nearby == False) & (x.calm_streets == False)]\n",
    "    switch = {\n",
    "        'water_nearby': water_nearby,\n",
    "        'calm_streets': calm_streets,\n",
    "        'both': both,\n",
    "        'none': none\n",
    "    }\n",
    "    selected = switch.get(nearby_cat, lambda x: x)(bp_hotels)\n",
    "    show_geo(selected, color_map_nb, get_color_func_nb)"
   ]
  },
  {
   "cell_type": "markdown",
   "metadata": {},
   "source": [
    "## Preferred: Mix"
   ]
  },
  {
   "cell_type": "code",
   "execution_count": 19,
   "metadata": {},
   "outputs": [
    {
     "name": "stdout",
     "output_type": "stream",
     "text": [
      "{0: '1st_preferred_location', 1: '2nd_preferred_location', 2: '3rd_preferred_location', 3: 'not_preferred_location'}\n",
      "CategoryCatalog:\n",
      "category rule collection: [\n",
      "    Category name: 1st_preferred_location\n",
      "    rules: [\n",
      "        AND(\n",
      "            REF ##pt_primary_accessible(\n",
      "                ANY[8756353289551](\n",
      "                    and(\n",
      "                        {public_transport : {'stop_position'}}, is_optional_key = False\n",
      "                        or[\n",
      "                            {light_rail : {'yes'}}, is_optional_key = False\n",
      "                            {subway : {'yes'}}, is_optional_key = False\n",
      "                            {train : {'yes'}}, is_optional_key = False\n",
      "                        ]\n",
      "                    )\n",
      "                )\n",
      "            )\n",
      "            REF ##water_OR_calm_streets(\n",
      "                OR[\n",
      "                    REF ##water_nearby(\n",
      "                        ANY[8756409063665](\n",
      "                            {waterway : {'river'}}, is_optional_key = False\n",
      "                        )\n",
      "                    )\n",
      "                    REF ##calm_streets(\n",
      "                        ALL[not_road](\n",
      "                            not(\n",
      "                                {highway : {'secondary', 'primary'}}, is_optional_key = False\n",
      "                            )\n",
      "                        )\n",
      "                    )\n",
      "                ]\n",
      "            )\n",
      "        )\n",
      "    ]\n",
      "    Category name: 2nd_preferred_location\n",
      "    rules: [\n",
      "        AND(\n",
      "            REF ##pt_accessible(\n",
      "                ANY[8756347665851](\n",
      "                    or[\n",
      "                        {public_transport : {'stop_position'}}, is_optional_key = False\n",
      "                        {public_transport : {'platform'}}, is_optional_key = False\n",
      "                        {amenity : {'ferry_terminal'}}, is_optional_key = False\n",
      "                    ]\n",
      "                )\n",
      "            )\n",
      "            REF ##water_AND_calm_streets(\n",
      "                AND(\n",
      "                    REF ##water_nearby(\n",
      "                        ANY[8756409063665](\n",
      "                            {waterway : {'river'}}, is_optional_key = False\n",
      "                        )\n",
      "                    )\n",
      "                    REF ##calm_streets(\n",
      "                        ALL[not_road](\n",
      "                            not(\n",
      "                                {highway : {'secondary', 'primary'}}, is_optional_key = False\n",
      "                            )\n",
      "                        )\n",
      "                    )\n",
      "                )\n",
      "            )\n",
      "        )\n",
      "    ]\n",
      "    Category name: 3rd_preferred_location\n",
      "    rules: [\n",
      "        OR[\n",
      "            REF ##water_OR_calm_streets(\n",
      "                OR[\n",
      "                    REF ##water_nearby(\n",
      "                        ANY[8756409063665](\n",
      "                            {waterway : {'river'}}, is_optional_key = False\n",
      "                        )\n",
      "                    )\n",
      "                    REF ##calm_streets(\n",
      "                        ALL[not_road](\n",
      "                            not(\n",
      "                                {highway : {'secondary', 'primary'}}, is_optional_key = False\n",
      "                            )\n",
      "                        )\n",
      "                    )\n",
      "                ]\n",
      "            )\n",
      "        ]\n",
      "    ]\n",
      "    Category name: not_preferred_location\n",
      "    rules: [\n",
      "        CONST(True)\n",
      "    ]\n",
      "]\n"
     ]
    }
   ],
   "source": [
    "categorizer3 = MainOsmCategorizer('rules/mix.json')\n",
    "print(categorizer3.get_categories_enumerated_key_map())\n",
    "print(categorizer3)\n",
    "\n",
    "bp_hotels[\"preferred_cat\"] = [i[0] for i in bp_hotels.osm.map(categorizer3.categorize)]"
   ]
  },
  {
   "cell_type": "code",
   "execution_count": 20,
   "metadata": {},
   "outputs": [
    {
     "data": {
      "text/plain": [
       "3    107\n",
       "2     25\n",
       "1      4\n",
       "0      3\n",
       "Name: preferred_cat, dtype: int64"
      ]
     },
     "execution_count": 20,
     "metadata": {},
     "output_type": "execute_result"
    }
   ],
   "source": [
    "bp_hotels.preferred_cat.value_counts()"
   ]
  },
  {
   "cell_type": "code",
   "execution_count": 21,
   "metadata": {
    "scrolled": false
   },
   "outputs": [
    {
     "data": {
      "application/vnd.jupyter.widget-view+json": {
       "model_id": "8d625e9a19344082b5093eb709c36693",
       "version_major": 2,
       "version_minor": 0
      },
      "text/plain": [
       "interactive(children=(Dropdown(description='preffered_cat', options=('All', '1st_preferred_location', '2nd_pre…"
      ]
     },
     "metadata": {},
     "output_type": "display_data"
    }
   ],
   "source": [
    "color_map_mix = dict(zip([0, 1, 2, 3], [\"green\", \"blue\", \"orange\", \"black\"]))\n",
    "get_color_func_mix = lambda df, color_map: list(df[\"preferred_cat\"].apply(lambda x: color_map.get(x, \"black\")))\n",
    "key_map_mix = dict(zip(['1st_preferred_location', '2nd_preferred_location', '3rd_preferred_location', 'not_preferred_location'], [0, 1, 2, 3]))\n",
    "\n",
    "preffered = ['All', '1st_preferred_location', '2nd_preferred_location', '3rd_preferred_location', 'not_preferred_location']\n",
    "@interact(preffered_cat=preffered)\n",
    "def get_nerby(preffered_cat):\n",
    "    selected = bp_hotels[bp_hotels.preferred_cat == key_map_mix[preffered_cat]] if preffered_cat != 'All' else bp_hotels\n",
    "    show_geo(selected, color_map_mix, get_color_func_mix)"
   ]
  },
  {
   "cell_type": "code",
   "execution_count": null,
   "metadata": {},
   "outputs": [],
   "source": []
  },
  {
   "cell_type": "code",
   "execution_count": 22,
   "metadata": {},
   "outputs": [
    {
     "name": "stdout",
     "output_type": "stream",
     "text": [
      "{0: 'no_wheelchair_shopping', 1: 'wheelchair_shopping_paradise', 2: 'wheelchair_shopping'}\n",
      "CategoryCatalog:\n",
      "category rule collection: [\n",
      "    Category name: no_wheelchair_shopping\n",
      "    rules: [\n",
      "        ALL[8756345947510](\n",
      "            impl(\n",
      "                {shop : {'supermarket'}}, is_optional_key = False\n",
      "                 => \n",
      "                {wheelchair : {'no'}}, is_optional_key = True\n",
      "            )\n",
      "        )\n",
      "    ]\n",
      "    Category name: wheelchair_shopping_paradise\n",
      "    rules: [\n",
      "        ALL[8756345947591](\n",
      "            impl(\n",
      "                {shop : {'supermarket'}}, is_optional_key = False\n",
      "                 => \n",
      "                {wheelchair : {'limited', 'designated', 'yes'}}, is_optional_key = False\n",
      "            )\n",
      "        )\n",
      "    ]\n",
      "    Category name: wheelchair_shopping\n",
      "    rules: [\n",
      "        CONST(True)\n",
      "    ]\n",
      "]\n"
     ]
    }
   ],
   "source": [
    "categorizer4 = MainOsmCategorizer('rules/wheelchair.json')\n",
    "print(categorizer4.get_categories_enumerated_key_map())\n",
    "print(categorizer4)\n",
    "\n",
    "bp_hotels[\"wheelchair\"] = [i[0] for i in bp_hotels.osm.map(categorizer4.categorize)]"
   ]
  },
  {
   "cell_type": "code",
   "execution_count": 23,
   "metadata": {},
   "outputs": [
    {
     "data": {
      "text/plain": [
       "0    72\n",
       "2    48\n",
       "1    19\n",
       "Name: wheelchair, dtype: int64"
      ]
     },
     "execution_count": 23,
     "metadata": {},
     "output_type": "execute_result"
    }
   ],
   "source": [
    "bp_hotels.wheelchair.value_counts()"
   ]
  },
  {
   "cell_type": "code",
   "execution_count": 24,
   "metadata": {},
   "outputs": [
    {
     "data": {
      "application/vnd.jupyter.widget-view+json": {
       "model_id": "6fa1a63f4ac040748620230091706701",
       "version_major": 2,
       "version_minor": 0
      },
      "text/plain": [
       "interactive(children=(Dropdown(description='wc_cat', options=('All', 'wheelchair_shopping_paradise', 'wheelcha…"
      ]
     },
     "metadata": {},
     "output_type": "display_data"
    }
   ],
   "source": [
    "color_map_wc = dict(zip([1, 2, 0], [\"green\", \"blue\", \"black\"]))\n",
    "get_color_func_wc = lambda df, color_map: list(df[\"wheelchair\"].apply(lambda x: color_map.get(x, \"black\")))\n",
    "key_map_wc = dict(zip(['wheelchair_shopping_paradise', 'wheelchair_shopping', 'no_wheelchair_shopping'], [1, 2, 0]))\n",
    "\n",
    "wc = ['All', 'wheelchair_shopping_paradise', 'wheelchair_shopping', 'no_wheelchair_shopping']\n",
    "@interact(wc_cat=wc)\n",
    "def get_wc(wc_cat):\n",
    "    selected = bp_hotels[bp_hotels.wheelchair == key_map_wc[wc_cat]] if wc_cat != 'All' else bp_hotels\n",
    "    show_geo(selected, color_map_wc, get_color_func_wc)"
   ]
  }
 ],
 "metadata": {
  "kernelspec": {
   "display_name": "Python 3",
   "language": "python",
   "name": "python3"
  },
  "language_info": {
   "codemirror_mode": {
    "name": "ipython",
    "version": 3
   },
   "file_extension": ".py",
   "mimetype": "text/x-python",
   "name": "python",
   "nbconvert_exporter": "python",
   "pygments_lexer": "ipython3",
   "version": "3.8.3"
  },
  "toc": {
   "base_numbering": 1,
   "nav_menu": {},
   "number_sections": true,
   "sideBar": true,
   "skip_h1_title": false,
   "title_cell": "Table of Contents",
   "title_sidebar": "Contents",
   "toc_cell": false,
   "toc_position": {},
   "toc_section_display": true,
   "toc_window_display": false
  }
 },
 "nbformat": 4,
 "nbformat_minor": 4
}
